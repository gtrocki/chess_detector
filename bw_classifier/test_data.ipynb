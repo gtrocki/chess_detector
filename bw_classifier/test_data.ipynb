{
 "cells": [
  {
   "cell_type": "code",
   "execution_count": 1,
   "id": "8d4e8dbf-9d2e-4f8c-b5b7-3a71f5123537",
   "metadata": {},
   "outputs": [],
   "source": [
    "%load_ext autoreload\n",
    "%autoreload 2"
   ]
  },
  {
   "cell_type": "code",
   "execution_count": 2,
   "id": "559c5ae3-528a-47db-92e2-df4ccda571fe",
   "metadata": {},
   "outputs": [],
   "source": [
    "import json\n",
    "from pathlib import Path\n",
    "from typing import Callable, Tuple, Union\n",
    "\n",
    "import pandas as pd\n",
    "import torch\n",
    "import torch.nn.functional as F\n",
    "from torch.utils.data import Dataset\n",
    "from torchvision.io import read_image"
   ]
  },
  {
   "cell_type": "code",
   "execution_count": 3,
   "id": "229d7a13-88cb-44de-92b5-de9b3d53e0a5",
   "metadata": {},
   "outputs": [],
   "source": [
    "dataroot = '/work/amirkl/DL4CV/end-to-end-chess-recognition/chessReD'"
   ]
  },
  {
   "cell_type": "code",
   "execution_count": 4,
   "id": "67ff7217-4484-499a-a3a2-94304d7d7dcd",
   "metadata": {},
   "outputs": [],
   "source": [
    "data_path=Path(dataroot, 'annotations.json')\n",
    "if not data_path.is_file():\n",
    "    raise(FileNotFoundError(f\"File '{data_path}' doesn't exist.\"))"
   ]
  },
  {
   "cell_type": "code",
   "execution_count": 5,
   "id": "eef0e62c-4413-433c-b07f-5812092e6025",
   "metadata": {},
   "outputs": [],
   "source": [
    "with open(data_path, 'r') as f:\n",
    "    annotations_file = json.load(f)"
   ]
  },
  {
   "cell_type": "code",
   "execution_count": 6,
   "id": "56513fab-505d-4082-8e5f-cb0e2d3a39ed",
   "metadata": {},
   "outputs": [
    {
     "name": "stdout",
     "output_type": "stream",
     "text": [
      "dict_keys(['info', 'images', 'annotations', 'categories', 'splits'])\n"
     ]
    },
    {
     "data": {
      "text/plain": [
       "dict_keys(['image_ids', 'n_samples'])"
      ]
     },
     "execution_count": 6,
     "metadata": {},
     "output_type": "execute_result"
    }
   ],
   "source": [
    "print(annotations_file.keys())\n",
    "annotations_file['splits']['chessred2k']['train'].keys()"
   ]
  },
  {
   "cell_type": "code",
   "execution_count": 8,
   "id": "7e335193-5ce8-412b-a11a-8983d26fc7dd",
   "metadata": {},
   "outputs": [
    {
     "data": {
      "text/plain": [
       "{'description': 'Chess Recognition Dataset (ChessReD)',\n",
       " 'version': '1.0',\n",
       " 'year': 2023,\n",
       " 'date_created': '26/08/2023',\n",
       " 'author': 'Athanasios Masouris'}"
      ]
     },
     "execution_count": 8,
     "metadata": {},
     "output_type": "execute_result"
    }
   ],
   "source": [
    "annotations_file['info']"
   ]
  },
  {
   "cell_type": "code",
   "execution_count": 11,
   "id": "49499851-52f8-42cd-8f56-f126b2f1f964",
   "metadata": {},
   "outputs": [
    {
     "data": {
      "text/html": [
       "<div>\n",
       "<style scoped>\n",
       "    .dataframe tbody tr th:only-of-type {\n",
       "        vertical-align: middle;\n",
       "    }\n",
       "\n",
       "    .dataframe tbody tr th {\n",
       "        vertical-align: top;\n",
       "    }\n",
       "\n",
       "    .dataframe thead th {\n",
       "        text-align: right;\n",
       "    }\n",
       "</style>\n",
       "<table border=\"1\" class=\"dataframe\">\n",
       "  <thead>\n",
       "    <tr style=\"text-align: right;\">\n",
       "      <th></th>\n",
       "      <th>image_id</th>\n",
       "      <th>category_id</th>\n",
       "      <th>chessboard_position</th>\n",
       "      <th>id</th>\n",
       "      <th>bbox</th>\n",
       "    </tr>\n",
       "  </thead>\n",
       "  <tbody>\n",
       "    <tr>\n",
       "      <th>0</th>\n",
       "      <td>0</td>\n",
       "      <td>7</td>\n",
       "      <td>a8</td>\n",
       "      <td>0</td>\n",
       "      <td>[510.34, 963.65, 155.75, 186.14]</td>\n",
       "    </tr>\n",
       "    <tr>\n",
       "      <th>1</th>\n",
       "      <td>0</td>\n",
       "      <td>8</td>\n",
       "      <td>b8</td>\n",
       "      <td>1</td>\n",
       "      <td>[692.17, 877.29, 154.48, 211.46]</td>\n",
       "    </tr>\n",
       "    <tr>\n",
       "      <th>2</th>\n",
       "      <td>0</td>\n",
       "      <td>9</td>\n",
       "      <td>c8</td>\n",
       "      <td>2</td>\n",
       "      <td>[877.04, 815.25, 130.42, 205.13]</td>\n",
       "    </tr>\n",
       "    <tr>\n",
       "      <th>3</th>\n",
       "      <td>0</td>\n",
       "      <td>10</td>\n",
       "      <td>d8</td>\n",
       "      <td>3</td>\n",
       "      <td>[1041.65, 703.82, 146.88, 264.64]</td>\n",
       "    </tr>\n",
       "    <tr>\n",
       "      <th>4</th>\n",
       "      <td>0</td>\n",
       "      <td>11</td>\n",
       "      <td>e8</td>\n",
       "      <td>4</td>\n",
       "      <td>[1215.12, 608.85, 136.75, 303.9]</td>\n",
       "    </tr>\n",
       "    <tr>\n",
       "      <th>...</th>\n",
       "      <td>...</td>\n",
       "      <td>...</td>\n",
       "      <td>...</td>\n",
       "      <td>...</td>\n",
       "      <td>...</td>\n",
       "    </tr>\n",
       "    <tr>\n",
       "      <th>223799</th>\n",
       "      <td>10799</td>\n",
       "      <td>11</td>\n",
       "      <td>a3</td>\n",
       "      <td>223799</td>\n",
       "      <td>[945.57, 645.7, 142.18, 336.45]</td>\n",
       "    </tr>\n",
       "    <tr>\n",
       "      <th>223800</th>\n",
       "      <td>10799</td>\n",
       "      <td>0</td>\n",
       "      <td>b3</td>\n",
       "      <td>223800</td>\n",
       "      <td>[979.14, 920.38, 103.63, 174.92]</td>\n",
       "    </tr>\n",
       "    <tr>\n",
       "      <th>223801</th>\n",
       "      <td>10799</td>\n",
       "      <td>0</td>\n",
       "      <td>a2</td>\n",
       "      <td>223801</td>\n",
       "      <td>[758.9, 825.93, 103.64, 172.72]</td>\n",
       "    </tr>\n",
       "    <tr>\n",
       "      <th>223802</th>\n",
       "      <td>10799</td>\n",
       "      <td>1</td>\n",
       "      <td>e2</td>\n",
       "      <td>223802</td>\n",
       "      <td>[827.43, 1296.85, 133.15, 217.32]</td>\n",
       "    </tr>\n",
       "    <tr>\n",
       "      <th>223803</th>\n",
       "      <td>10799</td>\n",
       "      <td>7</td>\n",
       "      <td>d1</td>\n",
       "      <td>223803</td>\n",
       "      <td>[581.57, 1188.01, 132.52, 209.77]</td>\n",
       "    </tr>\n",
       "  </tbody>\n",
       "</table>\n",
       "<p>223804 rows × 5 columns</p>\n",
       "</div>"
      ],
      "text/plain": [
       "        image_id  category_id chessboard_position      id  \\\n",
       "0              0            7                  a8       0   \n",
       "1              0            8                  b8       1   \n",
       "2              0            9                  c8       2   \n",
       "3              0           10                  d8       3   \n",
       "4              0           11                  e8       4   \n",
       "...          ...          ...                 ...     ...   \n",
       "223799     10799           11                  a3  223799   \n",
       "223800     10799            0                  b3  223800   \n",
       "223801     10799            0                  a2  223801   \n",
       "223802     10799            1                  e2  223802   \n",
       "223803     10799            7                  d1  223803   \n",
       "\n",
       "                                     bbox  \n",
       "0        [510.34, 963.65, 155.75, 186.14]  \n",
       "1        [692.17, 877.29, 154.48, 211.46]  \n",
       "2        [877.04, 815.25, 130.42, 205.13]  \n",
       "3       [1041.65, 703.82, 146.88, 264.64]  \n",
       "4        [1215.12, 608.85, 136.75, 303.9]  \n",
       "...                                   ...  \n",
       "223799    [945.57, 645.7, 142.18, 336.45]  \n",
       "223800   [979.14, 920.38, 103.63, 174.92]  \n",
       "223801    [758.9, 825.93, 103.64, 172.72]  \n",
       "223802  [827.43, 1296.85, 133.15, 217.32]  \n",
       "223803  [581.57, 1188.01, 132.52, 209.77]  \n",
       "\n",
       "[223804 rows x 5 columns]"
      ]
     },
     "execution_count": 11,
     "metadata": {},
     "output_type": "execute_result"
    }
   ],
   "source": [
    "annotations = pd.DataFrame(\n",
    "    annotations_file['annotations']['pieces']\n",
    ")\n",
    "categoreis = pd.DataFrame(\n",
    "    annotations_file['categories']\n",
    ")\n",
    "images = pd.DataFrame(\n",
    "    annotations_file['images']\n",
    ")\n",
    "annotations"
   ]
  },
  {
   "cell_type": "code",
   "execution_count": 91,
   "id": "064e3ad1-e05a-40a4-8ffe-79fc644bca28",
   "metadata": {},
   "outputs": [
    {
     "data": {
      "text/html": [
       "<div>\n",
       "<style scoped>\n",
       "    .dataframe tbody tr th:only-of-type {\n",
       "        vertical-align: middle;\n",
       "    }\n",
       "\n",
       "    .dataframe tbody tr th {\n",
       "        vertical-align: top;\n",
       "    }\n",
       "\n",
       "    .dataframe thead th {\n",
       "        text-align: right;\n",
       "    }\n",
       "</style>\n",
       "<table border=\"1\" class=\"dataframe\">\n",
       "  <thead>\n",
       "    <tr style=\"text-align: right;\">\n",
       "      <th></th>\n",
       "      <th>id</th>\n",
       "      <th>name</th>\n",
       "    </tr>\n",
       "  </thead>\n",
       "  <tbody>\n",
       "    <tr>\n",
       "      <th>0</th>\n",
       "      <td>0</td>\n",
       "      <td>white-pawn</td>\n",
       "    </tr>\n",
       "    <tr>\n",
       "      <th>1</th>\n",
       "      <td>1</td>\n",
       "      <td>white-rook</td>\n",
       "    </tr>\n",
       "    <tr>\n",
       "      <th>2</th>\n",
       "      <td>2</td>\n",
       "      <td>white-knight</td>\n",
       "    </tr>\n",
       "    <tr>\n",
       "      <th>3</th>\n",
       "      <td>3</td>\n",
       "      <td>white-bishop</td>\n",
       "    </tr>\n",
       "    <tr>\n",
       "      <th>4</th>\n",
       "      <td>4</td>\n",
       "      <td>white-queen</td>\n",
       "    </tr>\n",
       "    <tr>\n",
       "      <th>5</th>\n",
       "      <td>5</td>\n",
       "      <td>white-king</td>\n",
       "    </tr>\n",
       "    <tr>\n",
       "      <th>6</th>\n",
       "      <td>6</td>\n",
       "      <td>black-pawn</td>\n",
       "    </tr>\n",
       "    <tr>\n",
       "      <th>7</th>\n",
       "      <td>7</td>\n",
       "      <td>black-rook</td>\n",
       "    </tr>\n",
       "    <tr>\n",
       "      <th>8</th>\n",
       "      <td>8</td>\n",
       "      <td>black-knight</td>\n",
       "    </tr>\n",
       "    <tr>\n",
       "      <th>9</th>\n",
       "      <td>9</td>\n",
       "      <td>black-bishop</td>\n",
       "    </tr>\n",
       "    <tr>\n",
       "      <th>10</th>\n",
       "      <td>10</td>\n",
       "      <td>black-queen</td>\n",
       "    </tr>\n",
       "    <tr>\n",
       "      <th>11</th>\n",
       "      <td>11</td>\n",
       "      <td>black-king</td>\n",
       "    </tr>\n",
       "    <tr>\n",
       "      <th>12</th>\n",
       "      <td>12</td>\n",
       "      <td>empty</td>\n",
       "    </tr>\n",
       "  </tbody>\n",
       "</table>\n",
       "</div>"
      ],
      "text/plain": [
       "    id          name\n",
       "0    0    white-pawn\n",
       "1    1    white-rook\n",
       "2    2  white-knight\n",
       "3    3  white-bishop\n",
       "4    4   white-queen\n",
       "5    5    white-king\n",
       "6    6    black-pawn\n",
       "7    7    black-rook\n",
       "8    8  black-knight\n",
       "9    9  black-bishop\n",
       "10  10   black-queen\n",
       "11  11    black-king\n",
       "12  12         empty"
      ]
     },
     "execution_count": 91,
     "metadata": {},
     "output_type": "execute_result"
    }
   ],
   "source": [
    "categoreis"
   ]
  },
  {
   "cell_type": "code",
   "execution_count": 101,
   "id": "55bff689-df74-4f51-9fcb-e26e13826ef6",
   "metadata": {},
   "outputs": [
    {
     "data": {
      "text/plain": [
       "'white'"
      ]
     },
     "execution_count": 101,
     "metadata": {},
     "output_type": "execute_result"
    }
   ],
   "source": [
    "categoreis.iloc[2]['name'].split('-')[0]"
   ]
  },
  {
   "cell_type": "code",
   "execution_count": 123,
   "id": "da3ed6a3-3e37-45a9-bf5b-4f64c295d2bc",
   "metadata": {},
   "outputs": [],
   "source": [
    "from dataset import SamDataset\n",
    "from sklearn.model_selection import train_test_split\n",
    "dataset = SamDataset(dataroot=dataroot, split='train', classifier='pt')"
   ]
  },
  {
   "cell_type": "code",
   "execution_count": 124,
   "id": "26646c4b-9db8-4bc1-8a30-e13fda21c976",
   "metadata": {},
   "outputs": [
    {
     "name": "stdout",
     "output_type": "stream",
     "text": [
      "len(dataset)=30723\n",
      "len(dataset.split_img_ids)=1442\n"
     ]
    }
   ],
   "source": [
    "print(f'{len(dataset)=}')\n",
    "print(f'{len(dataset.split_img_ids)=}')"
   ]
  },
  {
   "cell_type": "code",
   "execution_count": 125,
   "id": "4bd7b5ec-b788-4d0e-9e08-8212ba7a515c",
   "metadata": {},
   "outputs": [],
   "source": [
    "a = dataset.__getitem__(15)"
   ]
  },
  {
   "cell_type": "code",
   "execution_count": 126,
   "id": "22576ebb-5a75-4776-b1b1-801947154223",
   "metadata": {},
   "outputs": [
    {
     "data": {
      "text/plain": [
       "'pawn'"
      ]
     },
     "execution_count": 126,
     "metadata": {},
     "output_type": "execute_result"
    }
   ],
   "source": [
    "a[1]"
   ]
  },
  {
   "cell_type": "code",
   "execution_count": null,
   "id": "225ca768-b90e-416c-b641-78af9e1b4f37",
   "metadata": {},
   "outputs": [],
   "source": []
  }
 ],
 "metadata": {
  "kernelspec": {
   "display_name": "ML",
   "language": "python",
   "name": "ml"
  },
  "language_info": {
   "codemirror_mode": {
    "name": "ipython",
    "version": 3
   },
   "file_extension": ".py",
   "mimetype": "text/x-python",
   "name": "python",
   "nbconvert_exporter": "python",
   "pygments_lexer": "ipython3",
   "version": "3.9.18"
  }
 },
 "nbformat": 4,
 "nbformat_minor": 5
}
