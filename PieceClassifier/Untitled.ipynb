{
 "cells": [
  {
   "cell_type": "code",
   "execution_count": 2,
   "id": "a584a76e-9fc8-4678-b4e0-f99272762123",
   "metadata": {},
   "outputs": [],
   "source": [
    "%load_ext autoreload\n",
    "%autoreload 2"
   ]
  },
  {
   "cell_type": "code",
   "execution_count": 5,
   "id": "7c2fad23-c4e1-415f-a5af-cbeaa1d6981c",
   "metadata": {},
   "outputs": [],
   "source": [
    "import cv2\n",
    "import torch\n",
    "import torchvision\n",
    "import tqdm\n",
    "import matplotlib.pyplot as plt\n",
    "\n",
    "from pathlib import Path\n",
    "from torch.utils.data import DataLoader\n",
    "from livelossplot import PlotLosses\n",
    "\n",
    "from dataset import SamDataset\n",
    "from test_model import *"
   ]
  },
  {
   "cell_type": "code",
   "execution_count": 8,
   "id": "8886077d-7b77-4ee1-9e60-3f70e3185c8a",
   "metadata": {},
   "outputs": [],
   "source": [
    "dataroot = Path('C:', '\\\\', 'Users', 'michalro', 'chess_detector', 'chessred') #Change this to match the computer you are working from!\n",
    "data_path=Path(dataroot, 'annotations.json')\n",
    "if not data_path.is_file():\n",
    "    raise(FileNotFoundError(f\"File '{data_path}' doesn't exist.\"))\n",
    "device = 'cuda' if torch.cuda.is_available() else 'cpu' # set the device according to availability"
   ]
  },
  {
   "cell_type": "code",
   "execution_count": 12,
   "id": "6d49a285-4a02-4688-86c3-a78264c0377c",
   "metadata": {},
   "outputs": [],
   "source": [
    "# %%time #uncomment this line to see how much time the cell takes to run\n",
    "train_dataset = SamDataset(dataroot=dataroot, classifier='pt', split='train', crop=False)\n",
    "val_dataset = SamDataset(dataroot=dataroot, classifier='pt', split='val', crop=False)\n",
    "\n",
    "train_loader = DataLoader(train_dataset, batch_size=32, shuffle=True) #batch size might be too small!\n",
    "val_loader = DataLoader(val_dataset, batch_size=32, shuffle=True)"
   ]
  },
  {
   "cell_type": "code",
   "execution_count": 15,
   "id": "99880558-1b92-436b-aed9-3524bb574e0f",
   "metadata": {},
   "outputs": [
    {
     "ename": "AttributeError",
     "evalue": "'dict' object has no attribute 'shape'",
     "output_type": "error",
     "traceback": [
      "\u001b[1;31m---------------------------------------------------------------------------\u001b[0m",
      "\u001b[1;31mAttributeError\u001b[0m                            Traceback (most recent call last)",
      "Cell \u001b[1;32mIn[15], line 3\u001b[0m\n\u001b[0;32m      1\u001b[0m \u001b[38;5;66;03m# cell to visualize dataloader output\u001b[39;00m\n\u001b[0;32m      2\u001b[0m \u001b[38;5;28;01mfor\u001b[39;00m data, label \u001b[38;5;129;01min\u001b[39;00m train_loader:\n\u001b[1;32m----> 3\u001b[0m     \u001b[38;5;28mprint\u001b[39m(\u001b[38;5;124mf\u001b[39m\u001b[38;5;124m'\u001b[39m\u001b[38;5;132;01m{\u001b[39;00mdata\u001b[38;5;241m.\u001b[39mshape\u001b[38;5;132;01m=}\u001b[39;00m\u001b[38;5;124m'\u001b[39m)\n\u001b[0;32m      4\u001b[0m     permutted_data \u001b[38;5;241m=\u001b[39m data\u001b[38;5;241m.\u001b[39mpermute(\u001b[38;5;241m0\u001b[39m,\u001b[38;5;241m3\u001b[39m,\u001b[38;5;241m1\u001b[39m,\u001b[38;5;241m2\u001b[39m)\n\u001b[0;32m      5\u001b[0m     \u001b[38;5;28mprint\u001b[39m(\u001b[38;5;124mf\u001b[39m\u001b[38;5;124m'\u001b[39m\u001b[38;5;132;01m{\u001b[39;00mpermutted_data\u001b[38;5;241m.\u001b[39mshape\u001b[38;5;132;01m=}\u001b[39;00m\u001b[38;5;124m'\u001b[39m)\n",
      "\u001b[1;31mAttributeError\u001b[0m: 'dict' object has no attribute 'shape'"
     ]
    }
   ],
   "source": [
    "# cell to visualize dataloader output\n",
    "for data, label in train_loader:\n",
    "    print(f'{data.shape=}')\n",
    "    permutted_data = data.permute(0,3,1,2)\n",
    "    print(f'{permutted_data.shape=}')\n",
    "    plt.imshow(permutted_data.permute(0,2,3,1)[0])\n",
    "    break"
   ]
  },
  {
   "cell_type": "code",
   "execution_count": 14,
   "id": "8609d880-ddf0-41bc-bd9c-f4ee04c3c234",
   "metadata": {},
   "outputs": [
    {
     "name": "stdout",
     "output_type": "stream",
     "text": [
      "True\n"
     ]
    }
   ],
   "source": [
    "print(torch.cuda.is_available())"
   ]
  },
  {
   "cell_type": "code",
   "execution_count": null,
   "id": "c1c4f592-9c4f-412a-9b11-3b69fe23d6ea",
   "metadata": {},
   "outputs": [],
   "source": []
  }
 ],
 "metadata": {
  "kernelspec": {
   "display_name": "Python 3 (ipykernel)",
   "language": "python",
   "name": "python3"
  },
  "language_info": {
   "codemirror_mode": {
    "name": "ipython",
    "version": 3
   },
   "file_extension": ".py",
   "mimetype": "text/x-python",
   "name": "python",
   "nbconvert_exporter": "python",
   "pygments_lexer": "ipython3",
   "version": "3.11.5"
  }
 },
 "nbformat": 4,
 "nbformat_minor": 5
}
